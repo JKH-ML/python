{
  "nbformat": 4,
  "nbformat_minor": 0,
  "metadata": {
    "colab": {
      "provenance": [],
      "authorship_tag": "ABX9TyMNlslVHtFVqtl+a0r2bZCr",
      "include_colab_link": true
    },
    "kernelspec": {
      "name": "python3",
      "display_name": "Python 3"
    },
    "language_info": {
      "name": "python"
    }
  },
  "cells": [
    {
      "cell_type": "markdown",
      "metadata": {
        "id": "view-in-github",
        "colab_type": "text"
      },
      "source": [
        "<a href=\"https://colab.research.google.com/github/JKH-ML/python/blob/main/%ED%8C%8C%EC%9D%B4%ED%86%A0%EC%B9%98_%ED%8A%9C%ED%86%A0%EB%A6%AC%EC%96%BC_ipynb%EC%9D%98_%EC%82%AC%EB%B3%B8.ipynb\" target=\"_parent\"><img src=\"https://colab.research.google.com/assets/colab-badge.svg\" alt=\"Open In Colab\"/></a>"
      ]
    },
    {
      "cell_type": "code",
      "execution_count": null,
      "metadata": {
        "id": "JpAmwqOhWgkt"
      },
      "outputs": [],
      "source": [
        "import torch\n",
        "import numpy as np"
      ]
    },
    {
      "cell_type": "code",
      "source": [
        "list_data = [[1, 2], [3, 4]]\n",
        "tensor_data = torch.tensor(list_data)\n",
        "\n",
        "print(tensor_data)\n",
        "print(type(tensor_data))\n",
        "print(tensor_data.shape)\n",
        "print(tensor_data.dtype)\n",
        "print(tensor_data.device)\n"
      ],
      "metadata": {
        "colab": {
          "base_uri": "https://localhost:8080/"
        },
        "id": "MRxKHy0cXH2C",
        "outputId": "682208c4-610c-4946-deb7-13ec0bb57849"
      },
      "execution_count": null,
      "outputs": [
        {
          "output_type": "stream",
          "name": "stdout",
          "text": [
            "tensor([[1, 2],\n",
            "        [3, 4]])\n",
            "<class 'torch.Tensor'>\n",
            "torch.Size([2, 2])\n",
            "torch.int64\n",
            "cpu\n"
          ]
        }
      ]
    },
    {
      "cell_type": "code",
      "source": [
        "# 코랩에서는 런타임 변경 필요\n",
        "if torch.cuda.is_available():\n",
        "    tensor_data = tensor_data.to(\"cuda\")"
      ],
      "metadata": {
        "id": "-IqDpvKLYiA3"
      },
      "execution_count": null,
      "outputs": []
    },
    {
      "cell_type": "code",
      "source": [
        "np_data = np.array(list_data)\n",
        "tensor_data_from_np = torch.tensor(np_data)\n",
        "\n",
        "print(tensor_data_from_np)\n",
        "print(type(tensor_data_from_np))\n",
        "print(tensor_data_from_np.shape)\n",
        "print(tensor_data_from_np.dtype)\n",
        "print(tensor_data_from_np.device)\n",
        "\n",
        "tensor_float = tensor_data_from_np.float()\n",
        "print(tensor_float.dtype)\n",
        "\n",
        "np_data_from_tensor = tensor_float.numpy()\n",
        "print(np_data_from_tensor)\n",
        "print(type(np_data_from_tensor))"
      ],
      "metadata": {
        "colab": {
          "base_uri": "https://localhost:8080/"
        },
        "id": "Q-JF2V3eZH_v",
        "outputId": "825cc8fd-6d17-4e6a-d4fc-3368eae29ccf"
      },
      "execution_count": null,
      "outputs": [
        {
          "output_type": "stream",
          "name": "stdout",
          "text": [
            "tensor([[1, 2],\n",
            "        [3, 4]])\n",
            "<class 'torch.Tensor'>\n",
            "torch.Size([2, 2])\n",
            "torch.int64\n",
            "cpu\n",
            "torch.float32\n",
            "[[1. 2.]\n",
            " [3. 4.]]\n",
            "<class 'numpy.ndarray'>\n"
          ]
        }
      ]
    },
    {
      "cell_type": "code",
      "source": [
        "# 균일분포\n",
        "tensor_rand = torch.rand(2, 2)\n",
        "print(tensor_rand)\n",
        "\n",
        "# 정규분포\n",
        "tensor_randn = torch.randn(2, 2)\n",
        "print(tensor_randn)\n",
        "\n",
        "tensor_zeros = torch.zeros(2, 2)\n",
        "print(tensor_zeros)\n",
        "\n",
        "tensor_ones = torch.ones(2, 2)\n",
        "print(tensor_ones)"
      ],
      "metadata": {
        "colab": {
          "base_uri": "https://localhost:8080/"
        },
        "id": "-e8My_q0bolW",
        "outputId": "e2738a6d-8d29-4a68-b29f-1a6d6cbf239c"
      },
      "execution_count": null,
      "outputs": [
        {
          "output_type": "stream",
          "name": "stdout",
          "text": [
            "tensor([[0.3438, 0.7332],\n",
            "        [0.1633, 0.8082]])\n",
            "tensor([[ 2.3867,  2.0436],\n",
            "        [-0.7058,  1.0334]])\n",
            "tensor([[0., 0.],\n",
            "        [0., 0.]])\n",
            "tensor([[1., 1.],\n",
            "        [1., 1.]])\n"
          ]
        }
      ]
    },
    {
      "cell_type": "code",
      "source": [
        "# 인덱싱, 슬라이싱은 넘파이와 동일\n",
        "x = torch.tensor([[1, 2, 3],\n",
        "                  [4, 5, 6],\n",
        "                  [7, 8, 9]])\n",
        "\n",
        "print(x[0, 1])\n",
        "print(x[-1, -1])\n",
        "\n",
        "print(x[:, 1])\n",
        "print(x[1])\n",
        "print(x[0:2, 1:])"
      ],
      "metadata": {
        "colab": {
          "base_uri": "https://localhost:8080/"
        },
        "id": "CnGbTKFsdJkh",
        "outputId": "dbbf9c78-217c-4fe7-a209-ffffbfab9817"
      },
      "execution_count": null,
      "outputs": [
        {
          "output_type": "stream",
          "name": "stdout",
          "text": [
            "tensor(2)\n",
            "tensor(9)\n",
            "tensor([2, 5, 8])\n",
            "tensor([4, 5, 6])\n",
            "tensor([[2, 3],\n",
            "        [5, 6]])\n"
          ]
        }
      ]
    },
    {
      "cell_type": "code",
      "source": [
        "# 1. 원소별 곱 (Element-wise multiplication)\n",
        "a = torch.tensor([[1, 2],\n",
        "                  [3, 4]])\n",
        "\n",
        "b = torch.tensor([[10, 20],\n",
        "                  [30, 40]])\n",
        "\n",
        "c = a * b # 또는 torch.mul(a, b)\n",
        "print(c)\n",
        "\n",
        "# 2. 행렬 곱 (Matrix multiplication)\n",
        "a = torch.tensor([[1, 2],\n",
        "                  [3, 4]])\n",
        "\n",
        "b = torch.tensor([[5, 6],\n",
        "                  [7, 8]])\n",
        "\n",
        "c = a @ b     # 또는 torch.matmul(a, b)\n",
        "print(c)\n",
        "\n",
        "# 3. Batch 행렬곱 (Batched matrix multiplication)\n",
        "a = torch.randn(10, 3, 4)  # batch 10개, 3x4 행렬\n",
        "b = torch.randn(10, 4, 5)  # batch 10개, 4x5 행렬\n",
        "c = torch.matmul(a, b)     # 결과: (10, 3, 5)\n",
        "# print(c)\n",
        "\n",
        "# 4. 내적 (Dot product)\n",
        "a = torch.tensor([1, 2, 3])\n",
        "b = torch.tensor([4, 5, 6])\n",
        "c = torch.dot(a, b)\n",
        "print(c)  # tensor(32) => 1*4 + 2*5 + 3*6 = 32\n",
        "\n",
        "# shape 바꾸기\n",
        "a = torch.tensor([1, 2, 3, 4]).view(2, 2)\n",
        "b = torch.tensor([4, 5, 6, 7]).view(2, 2)\n",
        "c = torch.matmul(a, b)\n",
        "print(c)"
      ],
      "metadata": {
        "colab": {
          "base_uri": "https://localhost:8080/"
        },
        "id": "3itErIIJeSQ0",
        "outputId": "b2e124df-8930-454d-8d5e-67d3877def20"
      },
      "execution_count": null,
      "outputs": [
        {
          "output_type": "stream",
          "name": "stdout",
          "text": [
            "tensor([[ 10,  40],\n",
            "        [ 90, 160]])\n",
            "tensor([[19, 22],\n",
            "        [43, 50]])\n",
            "tensor(32)\n",
            "tensor([[16, 19],\n",
            "        [36, 43]])\n"
          ]
        }
      ]
    },
    {
      "cell_type": "code",
      "source": [
        "# torch.cat() - 연결\n",
        "a = torch.tensor([[1, 2], [3, 4]])\n",
        "b = torch.tensor([[5, 6], [7, 8]])\n",
        "\n",
        "# 행 방향 (dim=0)\n",
        "cat0 = torch.cat([a, b], dim=0)\n",
        "print(cat0)\n",
        "\n",
        "# 열 방향 (dim=1)\n",
        "cat1 = torch.cat([a, b], dim=1)\n",
        "print(cat1)"
      ],
      "metadata": {
        "colab": {
          "base_uri": "https://localhost:8080/"
        },
        "id": "2IlT4L9LhVKl",
        "outputId": "cd8dcf4a-f71c-45ee-f1db-369de6b8bf92"
      },
      "execution_count": null,
      "outputs": [
        {
          "output_type": "stream",
          "name": "stdout",
          "text": [
            "tensor([[1, 2],\n",
            "        [3, 4],\n",
            "        [5, 6],\n",
            "        [7, 8]])\n",
            "tensor([[1, 2, 5, 6],\n",
            "        [3, 4, 7, 8]])\n",
            "tensor([[1, 2],\n",
            "        [3, 4]])\n",
            "tensor([[1, 3],\n",
            "        [2, 4]])\n"
          ]
        }
      ]
    },
    {
      "cell_type": "code",
      "source": [
        "import torch\n",
        "from torch.utils.data import TensorDataset, DataLoader\n",
        "from torch import nn\n",
        "\n",
        "x_train = torch.tensor([1,2,3,4,5,6]).float().view(6,1)\n",
        "y_train = torch.tensor([3,4,5,6,7,8]).float().view(6,1)\n",
        "\n",
        "dataset = TensorDataset(x_train, y_train)\n",
        "dataloader = DataLoader(dataset, batch_size=2, shuffle=True)\n",
        "\n",
        "# for batch_idx, samples in enumerate(dataloader):\n",
        "#     x_batch, y_batch = samples\n",
        "\n",
        "class My_NN(nn.Module):\n",
        "\n",
        "    def __init__(self):\n",
        "        super().__init__()\n",
        "        self.flatten = nn.Flatten()\n",
        "        self.linear_relu_stack = nn.Sequential(\n",
        "            nn.Linear(1, 1),\n",
        "\n",
        "        )\n",
        "\n",
        "    def forward(self, x):\n",
        "        logits = self.linear_relu_stack(x)\n",
        "        return logits\n",
        "\n",
        "model = My_NN()\n",
        "print(model)\n",
        "\n",
        "loss_function = nn.MSELoss()\n",
        "optimizer = torch.optim.SGD(model.parameters(), lr=1e-2)\n",
        "num_epoch = 2000\n",
        "\n",
        "for epoch in range(num_epoch):\n",
        "    y_pred = model(x_train)\n",
        "    loss = loss_function(y_pred, y_train)\n",
        "\n",
        "    optimizer.zero_grad()\n",
        "    loss.backward()\n",
        "    optimizer.step()\n",
        "\n",
        "    if epoch % 100 == 0:\n",
        "        print(f\"Epoch {epoch} | Loss: {loss.item()}\")\n",
        "\n"
      ],
      "metadata": {
        "colab": {
          "base_uri": "https://localhost:8080/"
        },
        "id": "SU6GKcMMjmSi",
        "outputId": "9b9ec958-0984-40f2-eac7-5a4285ac6c4c"
      },
      "execution_count": null,
      "outputs": [
        {
          "output_type": "stream",
          "name": "stdout",
          "text": [
            "My_NN(\n",
            "  (flatten): Flatten(start_dim=1, end_dim=-1)\n",
            "  (linear_relu_stack): Sequential(\n",
            "    (0): Linear(in_features=1, out_features=1, bias=True)\n",
            "  )\n",
            ")\n",
            "Epoch 0 | Loss: 79.4240951538086\n",
            "Epoch 100 | Loss: 0.19690006971359253\n",
            "Epoch 200 | Loss: 0.09477195888757706\n",
            "Epoch 300 | Loss: 0.0456155389547348\n",
            "Epoch 400 | Loss: 0.021955637261271477\n",
            "Epoch 500 | Loss: 0.010567680932581425\n",
            "Epoch 600 | Loss: 0.00508640194311738\n",
            "Epoch 700 | Loss: 0.002448188839480281\n",
            "Epoch 800 | Loss: 0.0011783496011048555\n",
            "Epoch 900 | Loss: 0.0005671578110195696\n",
            "Epoch 1000 | Loss: 0.000272986973868683\n",
            "Epoch 1100 | Loss: 0.00013138545909896493\n",
            "Epoch 1200 | Loss: 6.324236164800823e-05\n",
            "Epoch 1300 | Loss: 3.043868491658941e-05\n",
            "Epoch 1400 | Loss: 1.4652487152488902e-05\n",
            "Epoch 1500 | Loss: 7.053440640447661e-06\n",
            "Epoch 1600 | Loss: 3.3955559501919197e-06\n",
            "Epoch 1700 | Loss: 1.6343442439392675e-06\n",
            "Epoch 1800 | Loss: 7.86736563895829e-07\n",
            "Epoch 1900 | Loss: 3.7885936876591586e-07\n"
          ]
        }
      ]
    },
    {
      "cell_type": "code",
      "source": [
        "ints = torch.randint(-100, 101, (100,)).float()\n",
        "decimals = torch.round(torch.rand(100) * 10) / 10\n",
        "x_test = ints + decimals\n",
        "y_test = x_test + 2\n",
        "\n",
        "x_test = x_test.view(100, 1)\n",
        "y_test = y_test.view(100, 1)\n",
        "\n",
        "y_prediction = model(x_test)\n",
        "loss = loss_function(y_prediction, y_test)\n",
        "print(loss.item())\n",
        "\n"
      ],
      "metadata": {
        "colab": {
          "base_uri": "https://localhost:8080/"
        },
        "id": "DIspDRdbrPMz",
        "outputId": "2db61387-6237-4e62-ab99-5be5022b56a9"
      },
      "execution_count": null,
      "outputs": [
        {
          "output_type": "stream",
          "name": "stdout",
          "text": [
            "0.00018424622248858213\n"
          ]
        }
      ]
    },
    {
      "cell_type": "code",
      "source": [
        "from sklearn.metrics import mean_absolute_error, mean_squared_error, r2_score\n",
        "\n",
        "# 텐서를 넘파이로 변환\n",
        "y_true = y_test.detach().numpy()\n",
        "y_pred = y_prediction.detach().numpy()\n",
        "\n",
        "# 점수 계산\n",
        "mse = mean_squared_error(y_true, y_pred)\n",
        "mae = mean_absolute_error(y_true, y_pred)\n",
        "r2 = r2_score(y_true, y_pred)\n",
        "\n",
        "print(f\"MSE: {mse:.4f}\")\n",
        "print(f\"MAE: {mae:.4f}\")\n",
        "print(f\"R² Score: {r2:.4f}\")\n"
      ],
      "metadata": {
        "colab": {
          "base_uri": "https://localhost:8080/"
        },
        "id": "2g-P7s-9srkA",
        "outputId": "74f2b09c-9913-4442-d5b2-08ebf43d93eb"
      },
      "execution_count": null,
      "outputs": [
        {
          "output_type": "stream",
          "name": "stdout",
          "text": [
            "MSE: 0.0002\n",
            "MAE: 0.0118\n",
            "R² Score: 1.0000\n"
          ]
        }
      ]
    },
    {
      "cell_type": "code",
      "source": [
        "import matplotlib.pyplot as plt\n",
        "\n",
        "plt.figure(figsize=(6, 6))\n",
        "plt.scatter(y_true, y_pred, alpha=0.7)\n",
        "plt.plot([-100, 100], [-100, 100], 'r--')  # 정답과 예측이 같을 때 기준선\n",
        "plt.xlabel(\"True Values\")\n",
        "plt.ylabel(\"Predicted Values\")\n",
        "plt.title(\"Prediction vs Ground Truth\")\n",
        "plt.grid(True)\n",
        "plt.show()\n"
      ],
      "metadata": {
        "colab": {
          "base_uri": "https://localhost:8080/",
          "height": 564
        },
        "id": "jPLXkeSPtfPG",
        "outputId": "8848b73f-0028-42b1-a4d7-46756a84f01c"
      },
      "execution_count": null,
      "outputs": [
        {
          "output_type": "display_data",
          "data": {
            "text/plain": [
              "<Figure size 600x600 with 1 Axes>"
            ],
            "image/png": "[encoded data removed]"
          },
          "metadata": {}
        }
      ]
    },
    {
      "cell_type": "code",
      "source": [],
      "metadata": {
        "id": "GidO3Sybtnzd"
      },
      "execution_count": null,
      "outputs": []
    }
  ]
}